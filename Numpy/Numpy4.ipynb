{
  "nbformat": 4,
  "nbformat_minor": 0,
  "metadata": {
    "colab": {
      "provenance": [],
      "authorship_tag": "ABX9TyN0aPutRasOl2IoCZefuipQ",
      "include_colab_link": true
    },
    "kernelspec": {
      "name": "python3",
      "display_name": "Python 3"
    },
    "language_info": {
      "name": "python"
    }
  },
  "cells": [
    {
      "cell_type": "markdown",
      "metadata": {
        "id": "view-in-github",
        "colab_type": "text"
      },
      "source": [
        "<a href=\"https://colab.research.google.com/github/gitbyjay25/Phase25/blob/main/Numpy/Numpy4.ipynb\" target=\"_parent\"><img src=\"https://colab.research.google.com/assets/colab-badge.svg\" alt=\"Open In Colab\"/></a>"
      ]
    },
    {
      "cell_type": "markdown",
      "source": [
        "# Reshaping , Resizing & flattening"
      ],
      "metadata": {
        "id": "gS25zG-gO9zh"
      }
    },
    {
      "cell_type": "code",
      "source": [
        "import numpy as np"
      ],
      "metadata": {
        "id": "n_xGSzCRPWK3"
      },
      "execution_count": 2,
      "outputs": []
    },
    {
      "cell_type": "code",
      "execution_count": 12,
      "metadata": {
        "colab": {
          "base_uri": "https://localhost:8080/"
        },
        "id": "EF0-wyZAO5eK",
        "outputId": "ec49a991-ed5b-413c-c71a-7bcc8b7a9b0d"
      },
      "outputs": [
        {
          "output_type": "execute_result",
          "data": {
            "text/plain": [
              "array([1, 3, 4, 5, 7, 8])"
            ]
          },
          "metadata": {},
          "execution_count": 12
        }
      ],
      "source": [
        "a=np.array([1,3,4,5,7,8])\n",
        "a\n"
      ]
    },
    {
      "cell_type": "code",
      "source": [
        "b=a.reshape(2,3)\n",
        "b"
      ],
      "metadata": {
        "colab": {
          "base_uri": "https://localhost:8080/"
        },
        "id": "vMOtRbCuPSkE",
        "outputId": "6c8942ae-5d4d-4a49-bc47-7aabe263eac6"
      },
      "execution_count": 14,
      "outputs": [
        {
          "output_type": "execute_result",
          "data": {
            "text/plain": [
              "array([[1, 3, 4],\n",
              "       [5, 7, 8]])"
            ]
          },
          "metadata": {},
          "execution_count": 14
        }
      ]
    },
    {
      "cell_type": "markdown",
      "source": [
        "### ravel() vs flatten() → Convert to 1D"
      ],
      "metadata": {
        "id": "zQsgnPsEPskb"
      }
    },
    {
      "cell_type": "code",
      "source": [
        "a=np.array([[4,5,6,7],[2,5,8,9],[7,5,3,9]])\n",
        "a"
      ],
      "metadata": {
        "colab": {
          "base_uri": "https://localhost:8080/"
        },
        "id": "1ZQY9SivPZCV",
        "outputId": "87349b81-da10-48ed-f105-84ea73a8fef8"
      },
      "execution_count": 15,
      "outputs": [
        {
          "output_type": "execute_result",
          "data": {
            "text/plain": [
              "array([[4, 5, 6, 7],\n",
              "       [2, 5, 8, 9],\n",
              "       [7, 5, 3, 9]])"
            ]
          },
          "metadata": {},
          "execution_count": 15
        }
      ]
    },
    {
      "cell_type": "code",
      "source": [
        "b=a.ravel()\n",
        "b"
      ],
      "metadata": {
        "colab": {
          "base_uri": "https://localhost:8080/"
        },
        "id": "j6nTz1_UP2BA",
        "outputId": "b46ae9bf-076e-45f9-ac83-dbb4cafb2469"
      },
      "execution_count": 17,
      "outputs": [
        {
          "output_type": "execute_result",
          "data": {
            "text/plain": [
              "array([4, 5, 6, 7, 2, 5, 8, 9, 7, 5, 3, 9])"
            ]
          },
          "metadata": {},
          "execution_count": 17
        }
      ]
    },
    {
      "cell_type": "code",
      "source": [
        "b.flatten()\n",
        "b"
      ],
      "metadata": {
        "colab": {
          "base_uri": "https://localhost:8080/"
        },
        "id": "d4a6go1xP5jZ",
        "outputId": "0f3acaf9-6884-4623-ee54-5973ead2f5d7"
      },
      "execution_count": 18,
      "outputs": [
        {
          "output_type": "execute_result",
          "data": {
            "text/plain": [
              "array([4, 5, 6, 7, 2, 5, 8, 9, 7, 5, 3, 9])"
            ]
          },
          "metadata": {},
          "execution_count": 18
        }
      ]
    },
    {
      "cell_type": "markdown",
      "source": [
        "### resize() → Resize and change data permanently\n",
        "⚠️ Extra size → fills with 0:"
      ],
      "metadata": {
        "id": "AZGYhMGhQJv1"
      }
    },
    {
      "cell_type": "code",
      "source": [
        "a=np.array([1,2,3,4,8])\n",
        "a.resize(2,3)\n",
        "a"
      ],
      "metadata": {
        "colab": {
          "base_uri": "https://localhost:8080/"
        },
        "id": "I-A8-TRdP-nn",
        "outputId": "6ae359b6-e3f2-4aa3-d0cd-d52ab454d96f"
      },
      "execution_count": 20,
      "outputs": [
        {
          "output_type": "execute_result",
          "data": {
            "text/plain": [
              "array([[1, 2, 3],\n",
              "       [4, 8, 0]])"
            ]
          },
          "metadata": {},
          "execution_count": 20
        }
      ]
    },
    {
      "cell_type": "markdown",
      "source": [
        "### transpose() → Flip matrix"
      ],
      "metadata": {
        "id": "X7imyM3DQibF"
      }
    },
    {
      "cell_type": "code",
      "source": [
        "a=np.array(\n",
        "    [\n",
        "        [10,25,4],\n",
        "        [78,23,47],\n",
        "        [3,5,7]\n",
        "    ]\n",
        ")\n",
        "a"
      ],
      "metadata": {
        "colab": {
          "base_uri": "https://localhost:8080/"
        },
        "id": "ze8L3OvDQhnr",
        "outputId": "d2416a88-a9ee-41c1-eeec-599d1be2e3f7"
      },
      "execution_count": 22,
      "outputs": [
        {
          "output_type": "execute_result",
          "data": {
            "text/plain": [
              "array([[10, 25,  4],\n",
              "       [78, 23, 47],\n",
              "       [ 3,  5,  7]])"
            ]
          },
          "metadata": {},
          "execution_count": 22
        }
      ]
    },
    {
      "cell_type": "code",
      "source": [
        "a.transpose()\n"
      ],
      "metadata": {
        "colab": {
          "base_uri": "https://localhost:8080/"
        },
        "id": "pID_c29WQXH9",
        "outputId": "5e8cb189-73d5-49ba-fdd4-4caf9c3a51fc"
      },
      "execution_count": 24,
      "outputs": [
        {
          "output_type": "execute_result",
          "data": {
            "text/plain": [
              "array([[10, 78,  3],\n",
              "       [25, 23,  5],\n",
              "       [ 4, 47,  7]])"
            ]
          },
          "metadata": {},
          "execution_count": 24
        }
      ]
    },
    {
      "cell_type": "code",
      "source": [
        "a.T"
      ],
      "metadata": {
        "colab": {
          "base_uri": "https://localhost:8080/"
        },
        "id": "6BhkNS1uRZJz",
        "outputId": "41539d24-1329-4fe4-98fc-84ce382c50da"
      },
      "execution_count": 25,
      "outputs": [
        {
          "output_type": "execute_result",
          "data": {
            "text/plain": [
              "array([[10, 78,  3],\n",
              "       [25, 23,  5],\n",
              "       [ 4, 47,  7]])"
            ]
          },
          "metadata": {},
          "execution_count": 25
        }
      ]
    },
    {
      "cell_type": "markdown",
      "source": [
        "### ✅ 5. .reshape(-1, 1) → For ML Input\n",
        "Why Needed in ML?\n",
        "Machine Learning algorithms like Scikit-Learn expect:\n",
        "\n",
        "2D input array for features (X)\n",
        "\n",
        "Even if you have only 1 feature\n",
        "\n"
      ],
      "metadata": {
        "id": "2GpP46QqRQfF"
      }
    },
    {
      "cell_type": "code",
      "source": [
        "a=np.array([1,2,3,4,8])\n",
        "a"
      ],
      "metadata": {
        "colab": {
          "base_uri": "https://localhost:8080/"
        },
        "id": "lXKdk6YDRHRg",
        "outputId": "269821ba-19d6-4844-899d-b960687c5de0"
      },
      "execution_count": 27,
      "outputs": [
        {
          "output_type": "execute_result",
          "data": {
            "text/plain": [
              "array([1, 2, 3, 4, 8])"
            ]
          },
          "metadata": {},
          "execution_count": 27
        }
      ]
    },
    {
      "cell_type": "code",
      "source": [
        "from types import new_class\n",
        "new_a=a.reshape(-1,1)\n",
        "new_a"
      ],
      "metadata": {
        "colab": {
          "base_uri": "https://localhost:8080/"
        },
        "id": "JVNRPqAMR-fJ",
        "outputId": "07e8c65c-523f-4495-d418-5154e34ffe69"
      },
      "execution_count": 29,
      "outputs": [
        {
          "output_type": "execute_result",
          "data": {
            "text/plain": [
              "array([[1],\n",
              "       [2],\n",
              "       [3],\n",
              "       [4],\n",
              "       [8]])"
            ]
          },
          "metadata": {},
          "execution_count": 29
        }
      ]
    },
    {
      "cell_type": "code",
      "source": [
        "a = np.array([[10, 20],\n",
        "              [30, 40],\n",
        "              [50, 60]])\n",
        "a"
      ],
      "metadata": {
        "colab": {
          "base_uri": "https://localhost:8080/"
        },
        "id": "867mEi0rSHIx",
        "outputId": "959c167c-07a3-46af-a199-fe2aa925bafa"
      },
      "execution_count": 30,
      "outputs": [
        {
          "output_type": "execute_result",
          "data": {
            "text/plain": [
              "array([[10, 20],\n",
              "       [30, 40],\n",
              "       [50, 60]])"
            ]
          },
          "metadata": {},
          "execution_count": 30
        }
      ]
    },
    {
      "cell_type": "code",
      "source": [
        "print(a.reshape(-1,1))"
      ],
      "metadata": {
        "colab": {
          "base_uri": "https://localhost:8080/"
        },
        "id": "TwbKzj4HS3NM",
        "outputId": "8629cf7a-6b08-4ca0-c4d2-0e70a8175997"
      },
      "execution_count": 31,
      "outputs": [
        {
          "output_type": "stream",
          "name": "stdout",
          "text": [
            "[[10]\n",
            " [20]\n",
            " [30]\n",
            " [40]\n",
            " [50]\n",
            " [60]]\n"
          ]
        }
      ]
    },
    {
      "cell_type": "code",
      "source": [
        "print(a.reshape(2,-1))"
      ],
      "metadata": {
        "colab": {
          "base_uri": "https://localhost:8080/"
        },
        "id": "Xa0WZC-4S89c",
        "outputId": "4e6263d5-0963-419e-b15a-a9f03b4719a0"
      },
      "execution_count": 32,
      "outputs": [
        {
          "output_type": "stream",
          "name": "stdout",
          "text": [
            "[[10 20 30]\n",
            " [40 50 60]]\n"
          ]
        }
      ]
    },
    {
      "cell_type": "code",
      "source": [],
      "metadata": {
        "id": "i8kTI53VTBD7"
      },
      "execution_count": null,
      "outputs": []
    }
  ]
}