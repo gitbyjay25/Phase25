{
  "nbformat": 4,
  "nbformat_minor": 0,
  "metadata": {
    "colab": {
      "provenance": [],
      "authorship_tag": "ABX9TyOfvOKVcYPGbbFa9iajuzxu",
      "include_colab_link": true
    },
    "kernelspec": {
      "name": "python3",
      "display_name": "Python 3"
    },
    "language_info": {
      "name": "python"
    }
  },
  "cells": [
    {
      "cell_type": "markdown",
      "metadata": {
        "id": "view-in-github",
        "colab_type": "text"
      },
      "source": [
        "<a href=\"https://colab.research.google.com/github/gitbyjay25/Phase25/blob/main/Numpy.ipynb\" target=\"_parent\"><img src=\"https://colab.research.google.com/assets/colab-badge.svg\" alt=\"Open In Colab\"/></a>"
      ]
    },
    {
      "cell_type": "code",
      "execution_count": null,
      "metadata": {
        "colab": {
          "base_uri": "https://localhost:8080/"
        },
        "id": "DtXjUgo_4z5H",
        "outputId": "514d0e4b-dc05-4c9f-9eac-649447dd864e"
      },
      "outputs": [
        {
          "output_type": "stream",
          "name": "stdout",
          "text": [
            "Requirement already satisfied: numpy in /usr/local/lib/python3.11/dist-packages (2.0.2)\n"
          ]
        }
      ],
      "source": [
        "pip install numpy"
      ]
    },
    {
      "cell_type": "code",
      "source": [
        "import numpy as np"
      ],
      "metadata": {
        "id": "-2er-vTc8Mx4"
      },
      "execution_count": 36,
      "outputs": []
    },
    {
      "cell_type": "markdown",
      "source": [
        "### Creaing Numpy Arrays\n",
        "\n",
        "*  From a List\n",
        "* 2D Array  \n",
        "* np.zeros()\tAll elements zero\n",
        "* np.ones()\tAll elements one\n",
        "* np.empty()\tRandom garbage values\n",
        "* np.arange()\tRange of numbers\n",
        "* np.linspace()\tEqual intervals between values\n",
        "* np.eye()\tIdentity matrix\n",
        "* np.full()\tCustom fill value\n",
        "\n",
        "\n",
        "NumPy arrays are homogeneous (all elements same datatype).\n",
        "\n",
        "Every operation is vectorized = much faster.\n"
      ],
      "metadata": {
        "id": "jRfx-Nhy8eL_"
      }
    },
    {
      "cell_type": "code",
      "source": [
        "arr=np.array([1,2,3,4,5])"
      ],
      "metadata": {
        "id": "DpXEH6GQ8VIB"
      },
      "execution_count": null,
      "outputs": []
    },
    {
      "cell_type": "code",
      "source": [
        "arr"
      ],
      "metadata": {
        "colab": {
          "base_uri": "https://localhost:8080/"
        },
        "id": "h_TEK6Te9I0k",
        "outputId": "6e4c4a96-841f-492b-cc7c-4fd73b22530f"
      },
      "execution_count": null,
      "outputs": [
        {
          "output_type": "execute_result",
          "data": {
            "text/plain": [
              "array([1, 2, 3, 4, 5])"
            ]
          },
          "metadata": {},
          "execution_count": 4
        }
      ]
    },
    {
      "cell_type": "code",
      "source": [
        "print(type(arr))"
      ],
      "metadata": {
        "colab": {
          "base_uri": "https://localhost:8080/"
        },
        "id": "5fErOQzv9LTA",
        "outputId": "d6bc639d-e8be-4383-c790-7c4566779d62"
      },
      "execution_count": null,
      "outputs": [
        {
          "output_type": "stream",
          "name": "stdout",
          "text": [
            "<class 'numpy.ndarray'>\n"
          ]
        }
      ]
    },
    {
      "cell_type": "code",
      "source": [
        "arr2D=np.array([[1,2,3],[4,5,6]])"
      ],
      "metadata": {
        "id": "BdGBBT3A9TF3"
      },
      "execution_count": null,
      "outputs": []
    },
    {
      "cell_type": "code",
      "source": [
        "arr2D"
      ],
      "metadata": {
        "colab": {
          "base_uri": "https://localhost:8080/"
        },
        "id": "SfRjrEaf9qMA",
        "outputId": "f4a99b20-d411-4c1e-a0c4-ecdd6f301afc"
      },
      "execution_count": null,
      "outputs": [
        {
          "output_type": "execute_result",
          "data": {
            "text/plain": [
              "array([[1, 2, 3],\n",
              "       [4, 5, 6]])"
            ]
          },
          "metadata": {},
          "execution_count": 9
        }
      ]
    },
    {
      "cell_type": "code",
      "source": [
        "type(arr2D)"
      ],
      "metadata": {
        "colab": {
          "base_uri": "https://localhost:8080/"
        },
        "id": "HpVQmm6G9vqY",
        "outputId": "3902909f-25fe-4a04-9cb9-d20bc51f7482"
      },
      "execution_count": null,
      "outputs": [
        {
          "output_type": "execute_result",
          "data": {
            "text/plain": [
              "numpy.ndarray"
            ]
          },
          "metadata": {},
          "execution_count": 10
        }
      ]
    },
    {
      "cell_type": "markdown",
      "source": [
        "### np.zeros() - Array of Zeros"
      ],
      "metadata": {
        "id": "dK0K7l586O_h"
      }
    },
    {
      "cell_type": "code",
      "source": [
        "a=np.zeros(5)"
      ],
      "metadata": {
        "id": "ih0a4BBb9z3V"
      },
      "execution_count": 3,
      "outputs": []
    },
    {
      "cell_type": "code",
      "source": [
        "a"
      ],
      "metadata": {
        "colab": {
          "base_uri": "https://localhost:8080/"
        },
        "id": "ErVTGtpI5LZJ",
        "outputId": "7328768e-66fb-4c72-a1dc-35ef0d706c5e"
      },
      "execution_count": 4,
      "outputs": [
        {
          "output_type": "execute_result",
          "data": {
            "text/plain": [
              "array([0., 0., 0., 0., 0.])"
            ]
          },
          "metadata": {},
          "execution_count": 4
        }
      ]
    },
    {
      "cell_type": "code",
      "source": [
        "b=np.zeros((3,4))\n",
        "b"
      ],
      "metadata": {
        "colab": {
          "base_uri": "https://localhost:8080/"
        },
        "id": "o8iQNaTT5RnT",
        "outputId": "3780a4fd-b2b9-4c38-cfc4-292a2c45b3d1"
      },
      "execution_count": 11,
      "outputs": [
        {
          "output_type": "execute_result",
          "data": {
            "text/plain": [
              "array([[0., 0., 0., 0.],\n",
              "       [0., 0., 0., 0.],\n",
              "       [0., 0., 0., 0.]])"
            ]
          },
          "metadata": {},
          "execution_count": 11
        }
      ]
    },
    {
      "cell_type": "markdown",
      "source": [
        "### np.ones() _ array of ones"
      ],
      "metadata": {
        "id": "birXcqsJ6YAH"
      }
    },
    {
      "cell_type": "code",
      "source": [
        "m=np.ones(8)\n",
        "m"
      ],
      "metadata": {
        "colab": {
          "base_uri": "https://localhost:8080/"
        },
        "id": "QlHghmKb5YsM",
        "outputId": "a7a11585-2772-42b4-c1ae-bd8063244eb4"
      },
      "execution_count": 13,
      "outputs": [
        {
          "output_type": "execute_result",
          "data": {
            "text/plain": [
              "array([1., 1., 1., 1., 1., 1., 1., 1.])"
            ]
          },
          "metadata": {},
          "execution_count": 13
        }
      ]
    },
    {
      "cell_type": "code",
      "source": [
        "n=np.ones((2,4))\n",
        "n"
      ],
      "metadata": {
        "colab": {
          "base_uri": "https://localhost:8080/"
        },
        "id": "4nV8UHsc5t3X",
        "outputId": "25308e51-eead-4135-c414-4a701d62c7cd"
      },
      "execution_count": 15,
      "outputs": [
        {
          "output_type": "execute_result",
          "data": {
            "text/plain": [
              "array([[1., 1., 1., 1.],\n",
              "       [1., 1., 1., 1.]])"
            ]
          },
          "metadata": {},
          "execution_count": 15
        }
      ]
    },
    {
      "cell_type": "markdown",
      "source": [
        "### np.empty() - Garbage value"
      ],
      "metadata": {
        "id": "eojSTbcG6fuw"
      }
    },
    {
      "cell_type": "code",
      "source": [
        "s=np.empty((4,6))\n",
        "s\n"
      ],
      "metadata": {
        "colab": {
          "base_uri": "https://localhost:8080/"
        },
        "id": "wZkoGnOU50Py",
        "outputId": "d6244d86-1af3-44a6-a72e-814b839c914b"
      },
      "execution_count": 16,
      "outputs": [
        {
          "output_type": "execute_result",
          "data": {
            "text/plain": [
              "array([[-0.25, -0.5 ,  0.  , -0.25,  0.25, -0.5 ],\n",
              "       [ 0.5 , -0.25,  0.25,  0.  ,  0.5 ,  0.25],\n",
              "       [ 0.25,  0.5 ,  0.  ,  0.25, -0.25,  0.5 ],\n",
              "       [-0.5 ,  0.25, -0.25,  0.  , -0.5 , -0.25]])"
            ]
          },
          "metadata": {},
          "execution_count": 16
        }
      ]
    },
    {
      "cell_type": "markdown",
      "source": [
        "### np.arange()- create sequence of no. but return an array"
      ],
      "metadata": {
        "id": "nppkxHvX8IQD"
      }
    },
    {
      "cell_type": "code",
      "source": [
        "y=np.arange(10,20,3)\n",
        "y"
      ],
      "metadata": {
        "colab": {
          "base_uri": "https://localhost:8080/"
        },
        "id": "AKdIQDxG58A4",
        "outputId": "5c17df7a-e30e-4913-bdc8-c8c93d116a30"
      },
      "execution_count": 26,
      "outputs": [
        {
          "output_type": "execute_result",
          "data": {
            "text/plain": [
              "array([10, 13, 16, 19])"
            ]
          },
          "metadata": {},
          "execution_count": 26
        }
      ]
    },
    {
      "cell_type": "code",
      "source": [
        "y=np.arange(2,20,2).reshape(3,3)\n",
        "y"
      ],
      "metadata": {
        "colab": {
          "base_uri": "https://localhost:8080/"
        },
        "id": "DFVFpMsx7DFN",
        "outputId": "300cde12-7efa-4252-caf3-4e6e32dd1ca1"
      },
      "execution_count": 29,
      "outputs": [
        {
          "output_type": "execute_result",
          "data": {
            "text/plain": [
              "array([[ 2,  4,  6],\n",
              "       [ 8, 10, 12],\n",
              "       [14, 16, 18]])"
            ]
          },
          "metadata": {},
          "execution_count": 29
        }
      ]
    },
    {
      "cell_type": "code",
      "source": [
        "np.arange(50)\n"
      ],
      "metadata": {
        "colab": {
          "base_uri": "https://localhost:8080/"
        },
        "id": "GSR1FUiK8e6n",
        "outputId": "70d36efc-4b8a-4233-a9fb-08c23783c71c"
      },
      "execution_count": 31,
      "outputs": [
        {
          "output_type": "execute_result",
          "data": {
            "text/plain": [
              "array([ 0,  1,  2,  3,  4,  5,  6,  7,  8,  9, 10, 11, 12, 13, 14, 15, 16,\n",
              "       17, 18, 19, 20, 21, 22, 23, 24, 25, 26, 27, 28, 29, 30, 31, 32, 33,\n",
              "       34, 35, 36, 37, 38, 39, 40, 41, 42, 43, 44, 45, 46, 47, 48, 49])"
            ]
          },
          "metadata": {},
          "execution_count": 31
        }
      ]
    },
    {
      "cell_type": "markdown",
      "source": [
        "### np.linspace() – Creates evenly spaced numbers\n",
        "\n",
        "*   Use Case : Smooth graph and imterpolation\n",
        "\n",
        "\n"
      ],
      "metadata": {
        "id": "YXDDtdCTMZzU"
      }
    },
    {
      "cell_type": "code",
      "source": [
        "y=np.linspace(1,10,4)\n",
        "y"
      ],
      "metadata": {
        "colab": {
          "base_uri": "https://localhost:8080/"
        },
        "id": "pj5y2nRp8oGR",
        "outputId": "1678c006-90b1-400f-ad5d-6a52ddb751d5"
      },
      "execution_count": 37,
      "outputs": [
        {
          "output_type": "execute_result",
          "data": {
            "text/plain": [
              "array([ 1.,  4.,  7., 10.])"
            ]
          },
          "metadata": {},
          "execution_count": 37
        }
      ]
    },
    {
      "cell_type": "markdown",
      "source": [
        "### np.eye( : Identity matrix)"
      ],
      "metadata": {
        "id": "LoJyrKrcM1g8"
      }
    },
    {
      "cell_type": "code",
      "source": [
        "y=np.eye(5)\n",
        "y"
      ],
      "metadata": {
        "colab": {
          "base_uri": "https://localhost:8080/"
        },
        "id": "Kie-S9AFMKen",
        "outputId": "965731f2-ff2d-4c0d-84ab-09e0e91f849c"
      },
      "execution_count": 38,
      "outputs": [
        {
          "output_type": "execute_result",
          "data": {
            "text/plain": [
              "array([[1., 0., 0., 0., 0.],\n",
              "       [0., 1., 0., 0., 0.],\n",
              "       [0., 0., 1., 0., 0.],\n",
              "       [0., 0., 0., 1., 0.],\n",
              "       [0., 0., 0., 0., 1.]])"
            ]
          },
          "metadata": {},
          "execution_count": 38
        }
      ]
    },
    {
      "cell_type": "code",
      "source": [],
      "metadata": {
        "id": "zveFdOR6Mw2u"
      },
      "execution_count": null,
      "outputs": []
    },
    {
      "cell_type": "markdown",
      "source": [
        "### np.full()\n",
        "\n",
        "* All elements same value\n",
        "\n"
      ],
      "metadata": {
        "id": "OSu0kXiLM7AC"
      }
    },
    {
      "cell_type": "code",
      "source": [
        "y=np.full(3,4)\n",
        "y"
      ],
      "metadata": {
        "colab": {
          "base_uri": "https://localhost:8080/"
        },
        "id": "a7We-fOMNRGQ",
        "outputId": "d0c7c9fd-b167-46d8-883f-752af8ca4b39"
      },
      "execution_count": 41,
      "outputs": [
        {
          "output_type": "execute_result",
          "data": {
            "text/plain": [
              "array([4, 4, 4])"
            ]
          },
          "metadata": {},
          "execution_count": 41
        }
      ]
    },
    {
      "cell_type": "code",
      "source": [
        "y=np.full((2,3),99)\n",
        "y"
      ],
      "metadata": {
        "colab": {
          "base_uri": "https://localhost:8080/"
        },
        "id": "n-yE6CTlND9x",
        "outputId": "b1baf1ea-3722-4164-c91f-68e19ff4afa0"
      },
      "execution_count": 40,
      "outputs": [
        {
          "output_type": "execute_result",
          "data": {
            "text/plain": [
              "array([[99, 99, 99],\n",
              "       [99, 99, 99]])"
            ]
          },
          "metadata": {},
          "execution_count": 40
        }
      ]
    },
    {
      "cell_type": "markdown",
      "source": [
        "Random Functions\n",
        "\n",
        "*   np.random.rand() : Returns float values (0.0 to 1.0)\n",
        "*   np.random.randint() : Returns integer values  - Between specified low and high (like range())\n",
        "\n"
      ],
      "metadata": {
        "id": "9RXKQPWVN3hD"
      }
    },
    {
      "cell_type": "code",
      "source": [
        "y=np.random.rand(10)\n",
        "y"
      ],
      "metadata": {
        "colab": {
          "base_uri": "https://localhost:8080/"
        },
        "id": "WWFZ466TNIl9",
        "outputId": "67c09ba2-a172-4894-b023-047087d6b4fa"
      },
      "execution_count": 44,
      "outputs": [
        {
          "output_type": "execute_result",
          "data": {
            "text/plain": [
              "array([0.88581436, 0.29943483, 0.36013456, 0.57547736, 0.67322883,\n",
              "       0.60572086, 0.55148734, 0.05239549, 0.51207572, 0.13876922])"
            ]
          },
          "metadata": {},
          "execution_count": 44
        }
      ]
    },
    {
      "cell_type": "code",
      "source": [
        "y=np.random.rand(2,5)\n",
        "y"
      ],
      "metadata": {
        "colab": {
          "base_uri": "https://localhost:8080/"
        },
        "id": "5-gp-sm7O85u",
        "outputId": "769e1687-1693-4eb5-eed7-916137a7d647"
      },
      "execution_count": 50,
      "outputs": [
        {
          "output_type": "execute_result",
          "data": {
            "text/plain": [
              "array([[0.28026301, 0.22913611, 0.85430699, 0.41142897, 0.88426493],\n",
              "       [0.09657044, 0.79944465, 0.15067599, 0.75798915, 0.22720079]])"
            ]
          },
          "metadata": {},
          "execution_count": 50
        }
      ]
    },
    {
      "cell_type": "code",
      "source": [
        "y=np.random.randint(10)\n",
        "y"
      ],
      "metadata": {
        "colab": {
          "base_uri": "https://localhost:8080/"
        },
        "id": "RZ6DzOZZPJki",
        "outputId": "b42a0eb3-c373-4e8b-d330-4b64256021bb"
      },
      "execution_count": 53,
      "outputs": [
        {
          "output_type": "execute_result",
          "data": {
            "text/plain": [
              "6"
            ]
          },
          "metadata": {},
          "execution_count": 53
        }
      ]
    },
    {
      "cell_type": "code",
      "source": [
        "y=np.random.randint(3,21,(2,5))\n",
        "y"
      ],
      "metadata": {
        "colab": {
          "base_uri": "https://localhost:8080/"
        },
        "id": "ew_u5xEcPciZ",
        "outputId": "f5d5e290-4225-4579-8e0b-aa3d367b4287"
      },
      "execution_count": 56,
      "outputs": [
        {
          "output_type": "execute_result",
          "data": {
            "text/plain": [
              "array([[17, 11, 14,  5,  4],\n",
              "       [ 6,  5, 12,  6, 11]])"
            ]
          },
          "metadata": {},
          "execution_count": 56
        }
      ]
    },
    {
      "cell_type": "code",
      "source": [
        "y=np.random.randint(5,10,2)\n",
        "y"
      ],
      "metadata": {
        "colab": {
          "base_uri": "https://localhost:8080/"
        },
        "id": "qh0cJXe2PoIq",
        "outputId": "dafe2b82-eb6f-4a50-d30d-1c5408042016"
      },
      "execution_count": 59,
      "outputs": [
        {
          "output_type": "execute_result",
          "data": {
            "text/plain": [
              "array([5, 8])"
            ]
          },
          "metadata": {},
          "execution_count": 59
        }
      ]
    },
    {
      "cell_type": "code",
      "source": [],
      "metadata": {
        "id": "Q0V-Fp7gQPus"
      },
      "execution_count": null,
      "outputs": []
    }
  ]
}